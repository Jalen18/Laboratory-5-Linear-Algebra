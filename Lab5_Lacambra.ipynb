{
  "nbformat": 4,
  "nbformat_minor": 0,
  "metadata": {
    "colab": {
      "name": "Lab5_Lacambra.ipynb",
      "private_outputs": true,
      "provenance": [],
      "collapsed_sections": [],
      "authorship_tag": "ABX9TyOAsMSgA9pf0mor2Cvyj535",
      "include_colab_link": true
    },
    "kernelspec": {
      "name": "python3",
      "display_name": "Python 3"
    },
    "language_info": {
      "name": "python"
    }
  },
  "cells": [
    {
      "cell_type": "markdown",
      "metadata": {
        "id": "view-in-github",
        "colab_type": "text"
      },
      "source": [
        "<a href=\"https://colab.research.google.com/github/Jalen18/Laboratory-5-Linear-Algebra/blob/main/Lab5_Lacambra.ipynb\" target=\"_parent\"><img src=\"https://colab.research.google.com/assets/colab-badge.svg\" alt=\"Open In Colab\"/></a>"
      ]
    },
    {
      "cell_type": "markdown",
      "metadata": {
        "id": "rHITIckzpEqk"
      },
      "source": [
        "## Task 1 Vectors"
      ]
    },
    {
      "cell_type": "markdown",
      "metadata": {
        "id": "k83Lr0a3RLbF"
      },
      "source": [
        "$$J = \\begin{bmatrix} 1\\\\3 \\\\\\end{bmatrix} , R = \\begin{bmatrix} 8\\\\10 \\\\\\end{bmatrix} $$\n",
        "\n"
      ]
    },
    {
      "cell_type": "markdown",
      "metadata": {
        "id": "RGr9CCMjqIZ9"
      },
      "source": [
        "$$J = x + 3y \\\\ R = 8x + 10y$$"
      ]
    },
    {
      "cell_type": "markdown",
      "metadata": {
        "id": "_2w_qoZRqkvP"
      },
      "source": [
        "$$L = \\begin{bmatrix} 1 \\ 3\\\\8 \\ 10 \\\\\\end{bmatrix}\\\\ or \\\\\n",
        "L = \\left\\{\n",
        "    \\begin{array}\\\\\n",
        "        x + 3y \\\\ \n",
        "        8x + 10y\n",
        "    \\end{array}\n",
        "\\right. $$"
      ]
    },
    {
      "cell_type": "markdown",
      "metadata": {
        "id": "xfdQBltB3zFP"
      },
      "source": [
        "## Task 2 Vectors"
      ]
    },
    {
      "cell_type": "markdown",
      "metadata": {
        "id": "pGFqFOAC5rgm"
      },
      "source": [
        "$$J = 7x + 5y +3z \\\\ R = 6x + 12z$$"
      ]
    },
    {
      "cell_type": "markdown",
      "metadata": {
        "id": "gVlLOVsg41d2"
      },
      "source": [
        "$$ J = \\begin{bmatrix} \n",
        "7 \\ 5 \\ 3 \\\\\n",
        "6 \\ 12\\ \\\\\n",
        "\\end{bmatrix}$$"
      ]
    },
    {
      "cell_type": "code",
      "metadata": {
        "id": "0bNidY6d54tF"
      },
      "source": [
        "import numpy as np\n",
        "import matplotlib.pyplot as plt\n",
        "%matplotlib inline\n"
      ],
      "execution_count": null,
      "outputs": []
    },
    {
      "cell_type": "code",
      "metadata": {
        "id": "GR-i3yIdB4ob"
      },
      "source": [
        "L= np.array([\n",
        "    [1, 3],\n",
        "    [8, 10]\n",
        "])\n",
        "\n",
        "plt.xlim(10,-12)\n",
        "plt.ylim(10,-12)\n",
        "\n",
        "plt.quiver([0,0],[0,0], A[:,0], A[:,1], \n",
        "           angles='xy', scale_units='xy',scale=1, \n",
        "           color=['maroon','orange'])## use column spaces\n",
        "plt.show()"
      ],
      "execution_count": null,
      "outputs": []
    },
    {
      "cell_type": "code",
      "metadata": {
        "id": "LzatsPUxCYr8"
      },
      "source": [
        "import numpy as np\n",
        "import matplotlib.pyplot as plt\n",
        "%matplotlib inline\n",
        "\n",
        "J= np.array([7,5,3])\n",
        "R= np.array([6,0,12])\n",
        "\n",
        "fig = plt.figure()\n",
        "Vector = fig.gca(projection = \"3d\")\n",
        "\n",
        "Vector.set_xlim([15, -20])\n",
        "Vector.set_ylim([15, -20])\n",
        "Vector.set_zlim([15, -20])\n",
        "\n",
        "Vector.quiver(0, 0, 0, J[0], J[1], J[2], arrow_length_ratio=0.5, colors='orange')\n",
        "Vector.quiver(0, 0, 0, R[0], R[1], R[2], arrow_length_ratio=0.5, colors='maroon')\n",
        "\n",
        "plt.show()"
      ],
      "execution_count": null,
      "outputs": []
    },
    {
      "cell_type": "code",
      "metadata": {
        "id": "X2PC-BhwKt4b"
      },
      "source": [
        ""
      ],
      "execution_count": null,
      "outputs": []
    }
  ]
}